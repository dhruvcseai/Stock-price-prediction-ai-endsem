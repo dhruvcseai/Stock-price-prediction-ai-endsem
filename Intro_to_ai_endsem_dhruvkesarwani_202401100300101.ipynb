{
  "nbformat": 4,
  "nbformat_minor": 0,
  "metadata": {
    "colab": {
      "provenance": []
    },
    "kernelspec": {
      "name": "python3",
      "display_name": "Python 3"
    },
    "language_info": {
      "name": "python"
    }
  },
  "cells": [
    {
      "cell_type": "code",
      "source": [],
      "metadata": {
        "id": "TttvgadbIkYo"
      },
      "execution_count": null,
      "outputs": []
    },
    {
      "cell_type": "code",
      "execution_count": null,
      "metadata": {
        "colab": {
          "base_uri": "https://localhost:8080/"
        },
        "id": "b1lUoYOR__ia",
        "outputId": "e9792cb3-7d45-438d-fc38-c4e6263d609f"
      },
      "outputs": [
        {
          "output_type": "stream",
          "name": "stdout",
          "text": [
            "\n",
            "🔍 Model Performance on Test Data:\n",
            "\n",
            "Linear Regression -> R² Score: 0.9948 | MSE: 7240.47\n",
            "Random Forest -> R² Score: 0.9932 | MSE: 9519.39\n",
            "XGBoost -> R² Score: 0.9872 | MSE: 17851.41\n",
            "\n",
            "✅ Best Model Selected: LinearRegression (R² Score: 0.9948)\n",
            "\n",
            "📊 Predict Next-Day Stock Price\n"
          ]
        }
      ],
      "source": [
        "import pandas as pd\n",
        "from sklearn.model_selection import train_test_split\n",
        "from sklearn.preprocessing import StandardScaler\n",
        "from sklearn.linear_model import LinearRegression\n",
        "from sklearn.ensemble import RandomForestRegressor\n",
        "from xgboost import XGBRegressor\n",
        "from sklearn.metrics import r2_score, mean_squared_error\n",
        "\n",
        "# === Load Stock Data ===\n",
        "df = pd.read_csv(\"/content/drive/MyDrive/BAJFINANCE.csv\")  # You can change to any other stock file here\n",
        "df['Date'] = pd.to_datetime(df['Date'])\n",
        "df = df.sort_values('Date')\n",
        "\n",
        "# === Feature Engineering ===\n",
        "df['Prev_Close'] = df['Close'].shift(1)\n",
        "df['Prev_Volume'] = df['Volume'].shift(1)\n",
        "df_model = df[['Close', 'Prev_Close', 'Prev_Volume']].dropna()\n",
        "\n",
        "X = df_model[['Prev_Close', 'Prev_Volume']]\n",
        "y = df_model['Close']\n",
        "\n",
        "# === Train/Test Split and Scaling ===\n",
        "X_train, X_test, y_train, y_test = train_test_split(X, y, shuffle=False, test_size=0.2)\n",
        "scaler = StandardScaler()\n",
        "X_train_scaled = scaler.fit_transform(X_train)\n",
        "X_test_scaled = scaler.transform(X_test)\n",
        "\n",
        "# === Train Models ===\n",
        "models = {\n",
        "    \"Linear Regression\": LinearRegression(),\n",
        "    \"Random Forest\": RandomForestRegressor(n_estimators=100, random_state=42),\n",
        "    \"XGBoost\": XGBRegressor(n_estimators=100, random_state=42, verbosity=0)\n",
        "}\n",
        "\n",
        "best_model = None\n",
        "best_score = float('-inf')\n",
        "\n",
        "print(\"\\n🔍 Model Performance on Test Data:\\n\")\n",
        "for name, model in models.items():\n",
        "    model.fit(X_train_scaled, y_train)\n",
        "    preds = model.predict(X_test_scaled)\n",
        "    r2 = r2_score(y_test, preds)\n",
        "    mse = mean_squared_error(y_test, preds)\n",
        "    print(f\"{name} -> R² Score: {r2:.4f} | MSE: {mse:.2f}\")\n",
        "    if r2 > best_score:\n",
        "        best_model = model\n",
        "        best_score = r2\n",
        "\n",
        "print(f\"\\n✅ Best Model Selected: {type(best_model).__name__} (R² Score: {best_score:.4f})\")\n",
        "\n",
        "# === Interactive User Input Loop ===\n",
        "while True:\n",
        "    print(\"\\n📊 Predict Next-Day Stock Price\")\n",
        "    try:\n",
        "        prev_close = float(input(\"Enter previous day's closing price (e.g., 250.50): \"))\n",
        "        prev_volume = float(input(\"Enter previous day's volume (e.g., 1200000): \"))\n",
        "\n",
        "        user_features = scaler.transform([[prev_close, prev_volume]])\n",
        "        prediction = best_model.predict(user_features)[0]\n",
        "\n",
        "        print(f\"💰 Predicted next-day closing price: ₹{prediction:.2f}\")\n",
        "    except Exception as e:\n",
        "        print(f\"⚠️ Error: {e}\")\n",
        "\n",
        "    cont = input(\"\\n🔁 Want to predict again? (y/n): \").strip().lower()\n",
        "    if cont != 'y':\n",
        "        print(\"👋 Exiting the predictor. Have a great day!\")\n",
        "        break\n"
      ]
    },
    {
      "cell_type": "code",
      "source": [
        "    from google.colab import drive\n",
        "    drive.mount('/content/drive')"
      ],
      "metadata": {
        "colab": {
          "base_uri": "https://localhost:8080/"
        },
        "id": "71Prj1fPD44J",
        "outputId": "1ed1a7a6-a323-4656-fd68-971b692da90f"
      },
      "execution_count": 4,
      "outputs": [
        {
          "output_type": "stream",
          "name": "stdout",
          "text": [
            "Mounted at /content/drive\n"
          ]
        }
      ]
    },
    {
      "cell_type": "code",
      "source": [],
      "metadata": {
        "id": "48XoAYkaGXv0"
      },
      "execution_count": null,
      "outputs": []
    }
  ]
}